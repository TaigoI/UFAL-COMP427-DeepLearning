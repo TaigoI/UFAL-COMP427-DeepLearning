{
    "cells": [
        {
            "attachments": {},
            "cell_type": "markdown",
            "metadata": {},
            "source": [
                "# Questions on NumPy Array"
            ]
        },
        {
            "attachments": {},
            "cell_type": "markdown",
            "metadata": {},
            "source": [
                "**1. How to create an empty and a full NumPy array?**"
            ]
        },
        {
            "cell_type": "code",
            "execution_count": 1,
            "metadata": {},
            "outputs": [
                {
                    "name": "stdout",
                    "output_type": "stream",
                    "text": [
                        "[[0.000e+000 0.000e+000 0.000e+000]\n",
                        " [0.000e+000 0.000e+000 8.933e-321]\n",
                        " [0.000e+000 0.000e+000 0.000e+000]]\n",
                        "[[7 7 7]\n",
                        " [7 7 7]\n",
                        " [7 7 7]]\n"
                    ]
                }
            ],
            "source": [
                "import numpy as np\n",
                "\n",
                "# Empty array\n",
                "empty_array = np.empty((3, 3))\n",
                "print(empty_array)\n",
                "\n",
                "# Full array\n",
                "full_array = np.full((3, 3), 7)\n",
                "print(full_array)\n"
            ]
        },
        {
            "attachments": {},
            "cell_type": "markdown",
            "metadata": {},
            "source": [
                "\n",
                "**2. Create a NumPy array filled with all zeros**"
            ]
        },
        {
            "cell_type": "code",
            "execution_count": 2,
            "metadata": {},
            "outputs": [
                {
                    "name": "stdout",
                    "output_type": "stream",
                    "text": [
                        "[[0. 0. 0.]\n",
                        " [0. 0. 0.]\n",
                        " [0. 0. 0.]]\n"
                    ]
                }
            ],
            "source": [
                "import numpy as np\n",
                "\n",
                "zeros_array = np.zeros((3, 3))\n",
                "print(zeros_array)\n"
            ]
        },
        {
            "attachments": {},
            "cell_type": "markdown",
            "metadata": {},
            "source": [
                "\n",
                "**3. Create a NumPy array filled with all ones**"
            ]
        },
        {
            "cell_type": "code",
            "execution_count": 3,
            "metadata": {},
            "outputs": [
                {
                    "name": "stdout",
                    "output_type": "stream",
                    "text": [
                        "[[1. 1. 1.]\n",
                        " [1. 1. 1.]\n",
                        " [1. 1. 1.]]\n"
                    ]
                }
            ],
            "source": [
                "import numpy as np\n",
                "\n",
                "ones_array = np.ones((3, 3))\n",
                "print(ones_array)\n"
            ]
        },
        {
            "attachments": {},
            "cell_type": "markdown",
            "metadata": {},
            "source": [
                "\n",
                "**4. Check whether a NumPy array contains a specified row**"
            ]
        },
        {
            "cell_type": "code",
            "execution_count": 4,
            "metadata": {},
            "outputs": [
                {
                    "name": "stdout",
                    "output_type": "stream",
                    "text": [
                        "True\n"
                    ]
                }
            ],
            "source": [
                "import numpy as np\n",
                "\n",
                "array = np.array([[1, 2, 3], [4, 5, 6], [7, 8, 9]])\n",
                "row = np.array([4, 5, 6])\n",
                "result = np.any(np.all(array == row, axis=1))\n",
                "print(result)\n"
            ]
        },
        {
            "attachments": {},
            "cell_type": "markdown",
            "metadata": {},
            "source": [
                "\n",
                "**5. How to Remove rows in a NumPy array that contain non-numeric values?**"
            ]
        },
        {
            "cell_type": "code",
            "execution_count": 5,
            "metadata": {},
            "outputs": [
                {
                    "name": "stdout",
                    "output_type": "stream",
                    "text": [
                        "[[1. 2. 3.]\n",
                        " [7. 8. 9.]]\n"
                    ]
                }
            ],
            "source": [
                "import numpy as np\n",
                "\n",
                "array = np.array([[1, 2, 3], [4, np.nan, 6], [7, 8, 9]])\n",
                "numeric_array = array[~np.isnan(array).any(axis=1)]\n",
                "print(numeric_array)\n"
            ]
        },
        {
            "attachments": {},
            "cell_type": "markdown",
            "metadata": {},
            "source": [
                "\n",
                "**6. Remove single-dimensional entries from the shape of an array**"
            ]
        },
        {
            "cell_type": "code",
            "execution_count": 6,
            "metadata": {},
            "outputs": [
                {
                    "name": "stdout",
                    "output_type": "stream",
                    "text": [
                        "(3, 3)\n"
                    ]
                }
            ],
            "source": [
                "import numpy as np\n",
                "\n",
                "array = np.array([[1, 2, 3], [4, 5, 6], [7, 8, 9]])\n",
                "reshaped_array = np.squeeze(array)\n",
                "print(reshaped_array.shape)\n"
            ]
        },
        {
            "attachments": {},
            "cell_type": "markdown",
            "metadata": {},
            "source": [
                "\n",
                "**7. Find the number of occurrences of a sequence in a NumPy array**"
            ]
        },
        {
            "cell_type": "code",
            "execution_count": 7,
            "metadata": {},
            "outputs": [
                {
                    "name": "stdout",
                    "output_type": "stream",
                    "text": [
                        "0\n"
                    ]
                },
                {
                    "name": "stderr",
                    "output_type": "stream",
                    "text": [
                        "C:\\Users\\taigo\\AppData\\Local\\Temp\\ipykernel_10456\\1268054913.py:5: DeprecationWarning: elementwise comparison failed; this will raise an error in the future.\n",
                        "  count = np.count_nonzero(np.convolve(array, sequence[::-1], mode='valid') == np.flip(sequence))\n"
                    ]
                }
            ],
            "source": [
                "import numpy as np\n",
                "\n",
                "array = np.array([1, 2, 2, 3, 2, 4, 2])\n",
                "sequence = np.array([2, 4])\n",
                "count = np.count_nonzero(np.convolve(array, sequence[::-1], mode='valid') == np.flip(sequence))\n",
                "print(count)\n"
            ]
        },
        {
            "attachments": {},
            "cell_type": "markdown",
            "metadata": {},
            "source": [
                "\n",
                "**8. Find the most frequent value in a NumPy array**"
            ]
        },
        {
            "cell_type": "code",
            "execution_count": 8,
            "metadata": {},
            "outputs": [
                {
                    "name": "stdout",
                    "output_type": "stream",
                    "text": [
                        "2\n"
                    ]
                }
            ],
            "source": [
                "import numpy as np\n",
                "\n",
                "array = np.array([1, 2, 2, 3, 2, 4, 2])\n",
                "most_frequent_value = np.bincount(array).argmax()\n",
                "print(most_frequent_value)\n"
            ]
        },
        {
            "attachments": {},
            "cell_type": "markdown",
            "metadata": {},
            "source": [
                "\n",
                "**9. Combining a one and a two-dimensional NumPy Array**"
            ]
        },
        {
            "cell_type": "code",
            "execution_count": 9,
            "metadata": {},
            "outputs": [
                {
                    "name": "stdout",
                    "output_type": "stream",
                    "text": [
                        "[[1 2 3]\n",
                        " [4 5 6]\n",
                        " [7 8 9]]\n"
                    ]
                }
            ],
            "source": [
                "import numpy as np\n",
                "\n",
                "one_dim_array = np.array([1, 2, 3])\n",
                "two_dim_array = np.array([[4, 5, 6], [7, 8, 9]])\n",
                "combined_array = np.vstack((one_dim_array, two_dim_array))\n",
                "print(combined_array)\n"
            ]
        },
        {
            "attachments": {},
            "cell_type": "markdown",
            "metadata": {},
            "source": [
                "\n",
                "**10. How to build an array of all combinations of two NumPy arrays?**"
            ]
        },
        {
            "cell_type": "code",
            "execution_count": 10,
            "metadata": {},
            "outputs": [
                {
                    "name": "stdout",
                    "output_type": "stream",
                    "text": [
                        "[[1 4]\n",
                        " [2 4]\n",
                        " [3 4]\n",
                        " [1 5]\n",
                        " [2 5]\n",
                        " [3 5]]\n"
                    ]
                }
            ],
            "source": [
                "import numpy as np\n",
                "\n",
                "array1 = np.array([1, 2, 3])\n",
                "array2 = np.array([4, 5])\n",
                "combinations = np.transpose([np.tile(array1, len(array2)), np.repeat(array2, len(array1))])\n",
                "print(combinations)\n"
            ]
        },
        {
            "attachments": {},
            "cell_type": "markdown",
            "metadata": {},
            "source": [
                "\n",
                "**11. How to add a border around a NumPy array?**"
            ]
        },
        {
            "cell_type": "code",
            "execution_count": 11,
            "metadata": {},
            "outputs": [
                {
                    "name": "stdout",
                    "output_type": "stream",
                    "text": [
                        "[[0. 0. 0. 0. 0.]\n",
                        " [0. 1. 1. 1. 0.]\n",
                        " [0. 1. 1. 1. 0.]\n",
                        " [0. 1. 1. 1. 0.]\n",
                        " [0. 0. 0. 0. 0.]]\n"
                    ]
                }
            ],
            "source": [
                "import numpy as np\n",
                "\n",
                "array = np.ones((3, 3))\n",
                "padded_array = np.pad(array, pad_width=1, mode='constant', constant_values=0)\n",
                "print(padded_array)\n"
            ]
        },
        {
            "attachments": {},
            "cell_type": "markdown",
            "metadata": {},
            "source": [
                "\n",
                "**12. How to compare two NumPy arrays?**"
            ]
        },
        {
            "cell_type": "code",
            "execution_count": 12,
            "metadata": {},
            "outputs": [
                {
                    "name": "stdout",
                    "output_type": "stream",
                    "text": [
                        "False\n"
                    ]
                }
            ],
            "source": [
                "import numpy as np\n",
                "\n",
                "array1 = np.array([1, 2, 3])\n",
                "array2 = np.array([1, 0, 3])\n",
                "comparison = np.array_equal(array1, array2)\n",
                "print(comparison)\n"
            ]
        },
        {
            "attachments": {},
            "cell_type": "markdown",
            "metadata": {},
            "source": [
                "\n",
                "**13. How to check whether specified values are present in a NumPy array?**"
            ]
        },
        {
            "cell_type": "code",
            "execution_count": 13,
            "metadata": {},
            "outputs": [
                {
                    "name": "stdout",
                    "output_type": "stream",
                    "text": [
                        "[False  True False False False]\n"
                    ]
                }
            ],
            "source": [
                "import numpy as np\n",
                "\n",
                "array = np.array([1, 2, 3, 4, 5])\n",
                "specified_values = [2, 6]\n",
                "present_values = np.isin(array, specified_values)\n",
                "print(present_values)\n"
            ]
        },
        {
            "attachments": {},
            "cell_type": "markdown",
            "metadata": {},
            "source": [
                "\n",
                "**14. How to get all 2D diagonals of a 3D NumPy array?**"
            ]
        },
        {
            "cell_type": "code",
            "execution_count": 14,
            "metadata": {},
            "outputs": [
                {
                    "name": "stdout",
                    "output_type": "stream",
                    "text": [
                        "[[ 1  5]\n",
                        " [ 7 11]]\n"
                    ]
                }
            ],
            "source": [
                "import numpy as np\n",
                "\n",
                "array = np.array([[[1, 2, 3], [4, 5, 6]], [[7, 8, 9], [10, 11, 12]]])\n",
                "diagonals = np.diagonal(array, axis1=1, axis2=2)\n",
                "print(diagonals)\n"
            ]
        },
        {
            "attachments": {},
            "cell_type": "markdown",
            "metadata": {},
            "source": [
                "\n",
                "**15. Flatten a Matrix in Python using NumPy**"
            ]
        },
        {
            "cell_type": "code",
            "execution_count": 15,
            "metadata": {},
            "outputs": [
                {
                    "name": "stdout",
                    "output_type": "stream",
                    "text": [
                        "[1 2 3 4 5 6]\n"
                    ]
                }
            ],
            "source": [
                "import numpy as np\n",
                "\n",
                "matrix = np.array([[1, 2, 3], [4, 5, 6]])\n",
                "flattened_array = matrix.flatten()\n",
                "print(flattened_array)\n"
            ]
        },
        {
            "attachments": {},
            "cell_type": "markdown",
            "metadata": {},
            "source": [
                "\n",
                "**16. Flatten a 2D NumPy array into a 1D array**"
            ]
        },
        {
            "cell_type": "code",
            "execution_count": 16,
            "metadata": {},
            "outputs": [
                {
                    "name": "stdout",
                    "output_type": "stream",
                    "text": [
                        "[1 2 3 4 5 6]\n"
                    ]
                }
            ],
            "source": [
                "import numpy as np\n",
                "\n",
                "array = np.array([[1, 2, 3], [4, 5, 6]])\n",
                "flattened_array = array.ravel()\n",
                "print(flattened_array)\n"
            ]
        },
        {
            "attachments": {},
            "cell_type": "markdown",
            "metadata": {},
            "source": [
                "\n",
                "**17. Move axes of an array to new positions**"
            ]
        },
        {
            "cell_type": "code",
            "execution_count": 17,
            "metadata": {},
            "outputs": [
                {
                    "name": "stdout",
                    "output_type": "stream",
                    "text": [
                        "(4, 5, 3)\n"
                    ]
                }
            ],
            "source": [
                "import numpy as np\n",
                "\n",
                "array = np.ones((3, 4, 5))\n",
                "new_array = np.moveaxis(array, 0, -1)\n",
                "print(new_array.shape)\n"
            ]
        },
        {
            "attachments": {},
            "cell_type": "markdown",
            "metadata": {},
            "source": [
                "\n",
                "**18. Interchange two axes of an array**"
            ]
        },
        {
            "cell_type": "code",
            "execution_count": 18,
            "metadata": {},
            "outputs": [
                {
                    "name": "stdout",
                    "output_type": "stream",
                    "text": [
                        "(3, 5, 4)\n"
                    ]
                }
            ],
            "source": [
                "\n",
                "import numpy as np\n",
                "\n",
                "array = np.ones((3, 4, 5))\n",
                "new_array = np.swapaxes(array, 1, 2)\n",
                "print(new_array.shape)\n"
            ]
        },
        {
            "attachments": {},
            "cell_type": "markdown",
            "metadata": {},
            "source": [
                "\n",
                "**19. NumPy â€“ Fibonacci Series using Binet Formula**"
            ]
        },
        {
            "cell_type": "code",
            "execution_count": 19,
            "metadata": {},
            "outputs": [
                {
                    "name": "stdout",
                    "output_type": "stream",
                    "text": [
                        "[ 1  1  2  3  5  8 13 21 34 55]\n"
                    ]
                }
            ],
            "source": [
                "import numpy as np\n",
                "\n",
                "def fibonacci(n):\n",
                "    sqrt5 = np.sqrt(5)\n",
                "    phi = (1 + sqrt5) / 2\n",
                "    psi = (1 - sqrt5) / 2\n",
                "    fib = np.rint((phi ** np.arange(1, n + 1) - psi ** np.arange(1, n + 1)) / sqrt5)\n",
                "    return fib.astype(int)\n",
                "\n",
                "fibonacci_series = fibonacci(10)\n",
                "print(fibonacci_series)\n"
            ]
        },
        {
            "attachments": {},
            "cell_type": "markdown",
            "metadata": {},
            "source": [
                "\n",
                "**20. Counts the number of non-zero values in the array**"
            ]
        },
        {
            "cell_type": "code",
            "execution_count": 20,
            "metadata": {},
            "outputs": [
                {
                    "name": "stdout",
                    "output_type": "stream",
                    "text": [
                        "3\n"
                    ]
                }
            ],
            "source": [
                "import numpy as np\n",
                "\n",
                "array = np.array([[1, 0, 3], [0, 5, 0]])\n",
                "count = np.count_nonzero(array)\n",
                "print(count)\n"
            ]
        },
        {
            "attachments": {},
            "cell_type": "markdown",
            "metadata": {},
            "source": [
                "\n",
                "**21. Count the number of elements along a given axis**"
            ]
        },
        {
            "cell_type": "code",
            "execution_count": 21,
            "metadata": {},
            "outputs": [
                {
                    "name": "stdout",
                    "output_type": "stream",
                    "text": [
                        "2\n",
                        "3\n"
                    ]
                }
            ],
            "source": [
                "import numpy as np\n",
                "\n",
                "array = np.array([[1, 2, 3], [4, 5, 6]])\n",
                "count_along_axis0 = np.size(array, axis=0)\n",
                "count_along_axis1 = np.size(array, axis=1)\n",
                "print(count_along_axis0)\n",
                "print(count_along_axis1)\n"
            ]
        },
        {
            "attachments": {},
            "cell_type": "markdown",
            "metadata": {},
            "source": [
                "\n",
                "**22. Trim the leading and/or trailing zeros from a 1-D array**"
            ]
        },
        {
            "cell_type": "code",
            "execution_count": 22,
            "metadata": {},
            "outputs": [
                {
                    "name": "stdout",
                    "output_type": "stream",
                    "text": [
                        "[1 2 3]\n"
                    ]
                }
            ],
            "source": [
                "import numpy as np\n",
                "\n",
                "array = np.array([0, 0, 1, 2, 3, 0, 0])\n",
                "trimmed_array = np.trim_zeros(array)\n",
                "print(trimmed_array)\n"
            ]
        },
        {
            "attachments": {},
            "cell_type": "markdown",
            "metadata": {},
            "source": [
                "\n",
                "**23. Change the data type of a given NumPy array**"
            ]
        },
        {
            "cell_type": "code",
            "execution_count": 23,
            "metadata": {},
            "outputs": [
                {
                    "name": "stdout",
                    "output_type": "stream",
                    "text": [
                        "float64\n"
                    ]
                }
            ],
            "source": [
                "import numpy as np\n",
                "\n",
                "array = np.array([1, 2, 3], dtype=np.int32)\n",
                "changed_dtype_array = array.astype(np.float64)\n",
                "print(changed_dtype_array.dtype)\n"
            ]
        },
        {
            "attachments": {},
            "cell_type": "markdown",
            "metadata": {},
            "source": [
                "\n",
                "**24. Reverse a NumPy array**"
            ]
        },
        {
            "cell_type": "code",
            "execution_count": 24,
            "metadata": {},
            "outputs": [
                {
                    "name": "stdout",
                    "output_type": "stream",
                    "text": [
                        "[5 4 3 2 1]\n"
                    ]
                }
            ],
            "source": [
                "import numpy as np\n",
                "\n",
                "array = np.array([1, 2, 3, 4, 5])\n",
                "reversed_array = np.flip(array)\n",
                "print(reversed_array)\n"
            ]
        },
        {
            "attachments": {},
            "cell_type": "markdown",
            "metadata": {},
            "source": [
                "\n",
                "**25. How to make a NumPy array read-only?**"
            ]
        },
        {
            "cell_type": "code",
            "execution_count": 25,
            "metadata": {},
            "outputs": [],
            "source": [
                "import numpy as np\n",
                "\n",
                "array = np.array([1, 2, 3])\n",
                "array.flags.writeable = False"
            ]
        },
        {
            "attachments": {},
            "cell_type": "markdown",
            "metadata": {},
            "source": [
                "# Questions on NumPy Matrix"
            ]
        },
        {
            "attachments": {},
            "cell_type": "markdown",
            "metadata": {},
            "source": [
                "**1. Get the maximum value from a given matrix**"
            ]
        },
        {
            "cell_type": "code",
            "execution_count": 26,
            "metadata": {},
            "outputs": [
                {
                    "name": "stdout",
                    "output_type": "stream",
                    "text": [
                        "9\n"
                    ]
                }
            ],
            "source": [
                "import numpy as np\n",
                "\n",
                "matrix = np.array([[1, 2, 3], [4, 5, 6], [7, 8, 9]])\n",
                "max_value = np.max(matrix)\n",
                "print(max_value)\n"
            ]
        },
        {
            "attachments": {},
            "cell_type": "markdown",
            "metadata": {},
            "source": [
                "\n",
                "**2. Get the minimum value from a given matrix**"
            ]
        },
        {
            "cell_type": "code",
            "execution_count": 27,
            "metadata": {},
            "outputs": [
                {
                    "name": "stdout",
                    "output_type": "stream",
                    "text": [
                        "1\n"
                    ]
                }
            ],
            "source": [
                "import numpy as np\n",
                "\n",
                "matrix = np.array([[1, 2, 3], [4, 5, 6], [7, 8, 9]])\n",
                "min_value = np.min(matrix)\n",
                "print(min_value)\n"
            ]
        },
        {
            "attachments": {},
            "cell_type": "markdown",
            "metadata": {},
            "source": [
                "\n",
                "**3. Find the number of rows and columns of a given matrix using NumPy**"
            ]
        },
        {
            "cell_type": "code",
            "execution_count": 28,
            "metadata": {},
            "outputs": [
                {
                    "name": "stdout",
                    "output_type": "stream",
                    "text": [
                        "3 3\n"
                    ]
                }
            ],
            "source": [
                "import numpy as np\n",
                "\n",
                "matrix = np.array([[1, 2, 3], [4, 5, 6], [7, 8, 9]])\n",
                "num_rows, num_cols = matrix.shape\n",
                "print(num_rows, num_cols)\n"
            ]
        },
        {
            "attachments": {},
            "cell_type": "markdown",
            "metadata": {},
            "source": [
                "\n",
                "**4. Select the elements from a given matrix**"
            ]
        },
        {
            "cell_type": "code",
            "execution_count": 29,
            "metadata": {},
            "outputs": [
                {
                    "name": "stdout",
                    "output_type": "stream",
                    "text": [
                        "[[4 5]\n",
                        " [7 8]]\n"
                    ]
                }
            ],
            "source": [
                "import numpy as np\n",
                "\n",
                "matrix = np.array([[1, 2, 3], [4, 5, 6], [7, 8, 9]])\n",
                "selected_elements = matrix[1:, :2]\n",
                "print(selected_elements)\n"
            ]
        },
        {
            "attachments": {},
            "cell_type": "markdown",
            "metadata": {},
            "source": [
                "\n",
                "**5. Find the sum of values in a matrix**"
            ]
        },
        {
            "cell_type": "code",
            "execution_count": 30,
            "metadata": {},
            "outputs": [
                {
                    "name": "stdout",
                    "output_type": "stream",
                    "text": [
                        "45\n"
                    ]
                }
            ],
            "source": [
                "import numpy as np\n",
                "\n",
                "matrix = np.array([[1, 2, 3], [4, 5, 6], [7, 8, 9]])\n",
                "sum_of_values = np.sum(matrix)\n",
                "print(sum_of_values)\n"
            ]
        },
        {
            "attachments": {},
            "cell_type": "markdown",
            "metadata": {},
            "source": [
                "\n",
                "**6. Calculate the sum of the diagonal elements of a NumPy array**"
            ]
        },
        {
            "cell_type": "code",
            "execution_count": 31,
            "metadata": {},
            "outputs": [
                {
                    "name": "stdout",
                    "output_type": "stream",
                    "text": [
                        "15\n"
                    ]
                }
            ],
            "source": [
                "import numpy as np\n",
                "\n",
                "matrix = np.array([[1, 2, 3], [4, 5, 6], [7, 8, 9]])\n",
                "diagonal_sum = np.trace(matrix)\n",
                "print(diagonal_sum)\n"
            ]
        },
        {
            "attachments": {},
            "cell_type": "markdown",
            "metadata": {},
            "source": [
                "\n",
                "**7. Adding and Subtracting Matrices in Python**"
            ]
        },
        {
            "cell_type": "code",
            "execution_count": 32,
            "metadata": {},
            "outputs": [
                {
                    "name": "stdout",
                    "output_type": "stream",
                    "text": [
                        "[[ 8 10 12]\n",
                        " [14 16 18]]\n",
                        "[[-6 -6 -6]\n",
                        " [-6 -6 -6]]\n"
                    ]
                }
            ],
            "source": [
                "import numpy as np\n",
                "\n",
                "matrix1 = np.array([[1, 2, 3], [4, 5, 6]])\n",
                "matrix2 = np.array([[7, 8, 9], [10, 11, 12]])\n",
                "addition_result = matrix1 + matrix2\n",
                "subtraction_result = matrix1 - matrix2\n",
                "print(addition_result)\n",
                "print(subtraction_result)\n"
            ]
        },
        {
            "attachments": {},
            "cell_type": "markdown",
            "metadata": {},
            "source": [
                "\n",
                "**8. Ways to add rows/columns in a NumPy array**"
            ]
        },
        {
            "cell_type": "code",
            "execution_count": 33,
            "metadata": {},
            "outputs": [
                {
                    "name": "stdout",
                    "output_type": "stream",
                    "text": [
                        "[[1 2 3]\n",
                        " [4 5 6]\n",
                        " [7 8 9]]\n",
                        "[[ 1  2  3 10]\n",
                        " [ 4  5  6 11]]\n"
                    ]
                }
            ],
            "source": [
                "import numpy as np\n",
                "\n",
                "array = np.array([[1, 2, 3], [4, 5, 6]])\n",
                "row_to_add = np.array([7, 8, 9])\n",
                "column_to_add = np.array([[10], [11]])\n",
                "array_with_added_row = np.vstack((array, row_to_add))\n",
                "array_with_added_column = np.hstack((array, column_to_add))\n",
                "print(array_with_added_row)\n",
                "print(array_with_added_column)\n"
            ]
        },
        {
            "attachments": {},
            "cell_type": "markdown",
            "metadata": {},
            "source": [
                "\n",
                "**9. Matrix Multiplication in NumPy**"
            ]
        },
        {
            "cell_type": "code",
            "execution_count": 34,
            "metadata": {},
            "outputs": [
                {
                    "name": "stdout",
                    "output_type": "stream",
                    "text": [
                        "[[19 22]\n",
                        " [43 50]]\n"
                    ]
                }
            ],
            "source": [
                "import numpy as np\n",
                "\n",
                "matrix1 = np.array([[1, 2], [3, 4]])\n",
                "matrix2 = np.array([[5, 6], [7, 8]])\n",
                "multiplication_result = np.dot(matrix1, matrix2)\n",
                "print(multiplication_result)\n"
            ]
        },
        {
            "attachments": {},
            "cell_type": "markdown",
            "metadata": {},
            "source": [
                "\n",
                "**10. Get the eigenvalues of a matrix**"
            ]
        },
        {
            "cell_type": "code",
            "execution_count": 35,
            "metadata": {},
            "outputs": [
                {
                    "name": "stdout",
                    "output_type": "stream",
                    "text": [
                        "[-0.37228132  5.37228132]\n"
                    ]
                }
            ],
            "source": [
                "import numpy as np\n",
                "\n",
                "matrix = np.array([[1, 2], [3, 4]])\n",
                "eigenvalues = np.linalg.eigvals(matrix)\n",
                "print(eigenvalues)\n"
            ]
        },
        {
            "attachments": {},
            "cell_type": "markdown",
            "metadata": {},
            "source": [
                "\n",
                "**11. How to calculate the determinant of a matrix using NumPy?**"
            ]
        },
        {
            "cell_type": "code",
            "execution_count": 36,
            "metadata": {},
            "outputs": [
                {
                    "name": "stdout",
                    "output_type": "stream",
                    "text": [
                        "-2.0000000000000004\n"
                    ]
                }
            ],
            "source": [
                "import numpy as np\n",
                "\n",
                "matrix = np.array([[1, 2], [3, 4]])\n",
                "determinant = np.linalg.det(matrix)\n",
                "print(determinant)\n"
            ]
        },
        {
            "attachments": {},
            "cell_type": "markdown",
            "metadata": {},
            "source": [
                "\n",
                "**12. How to inverse a matrix using NumPy**"
            ]
        },
        {
            "cell_type": "code",
            "execution_count": 37,
            "metadata": {},
            "outputs": [
                {
                    "name": "stdout",
                    "output_type": "stream",
                    "text": [
                        "[[-2.   1. ]\n",
                        " [ 1.5 -0.5]]\n"
                    ]
                }
            ],
            "source": [
                "import numpy as np\n",
                "\n",
                "matrix = np.array([[1, 2], [3, 4]])\n",
                "inverse_matrix = np.linalg.inv(matrix)\n",
                "print(inverse_matrix)\n"
            ]
        },
        {
            "attachments": {},
            "cell_type": "markdown",
            "metadata": {},
            "source": [
                "\n",
                "**13. How to count the frequency of unique values in a NumPy array?**"
            ]
        },
        {
            "cell_type": "code",
            "execution_count": 38,
            "metadata": {},
            "outputs": [
                {
                    "name": "stdout",
                    "output_type": "stream",
                    "text": [
                        "{1: 2, 2: 2, 3: 3, 4: 3}\n"
                    ]
                }
            ],
            "source": [
                "import numpy as np\n",
                "\n",
                "array = np.array([1, 2, 3, 2, 1, 3, 3, 4, 4, 4])\n",
                "unique_values, value_counts = np.unique(array, return_counts=True)\n",
                "frequency_dict = dict(zip(unique_values, value_counts))\n",
                "print(frequency_dict)\n"
            ]
        },
        {
            "attachments": {},
            "cell_type": "markdown",
            "metadata": {},
            "source": [
                "\n",
                "**14. Multiply matrices of complex numbers using NumPy in Python**"
            ]
        },
        {
            "cell_type": "code",
            "execution_count": 39,
            "metadata": {},
            "outputs": [
                {
                    "name": "stdout",
                    "output_type": "stream",
                    "text": [
                        "[[-17. +53.j -19. +61.j]\n",
                        " [-21.+105.j -23.+121.j]]\n"
                    ]
                }
            ],
            "source": [
                "import numpy as np\n",
                "\n",
                "matrix1 = np.array([[1+2j, 2+3j], [3+4j, 4+5j]])\n",
                "matrix2 = np.array([[5+6j, 6+7j], [7+8j, 8+9j]])\n",
                "multiplication_result = np.matmul(matrix1, matrix2)\n",
                "print(multiplication_result)\n"
            ]
        },
        {
            "attachments": {},
            "cell_type": "markdown",
            "metadata": {},
            "source": [
                "\n",
                "**15. Compute the outer product of two given vectors using NumPy in Python**"
            ]
        },
        {
            "cell_type": "code",
            "execution_count": 40,
            "metadata": {},
            "outputs": [
                {
                    "name": "stdout",
                    "output_type": "stream",
                    "text": [
                        "[[ 4  5  6]\n",
                        " [ 8 10 12]\n",
                        " [12 15 18]]\n"
                    ]
                }
            ],
            "source": [
                "import numpy as np\n",
                "\n",
                "vector1 = np.array([1, 2, 3])\n",
                "vector2 = np.array([4, 5, 6])\n",
                "outer_product = np.outer(vector1, vector2)\n",
                "print(outer_product)\n"
            ]
        },
        {
            "attachments": {},
            "cell_type": "markdown",
            "metadata": {},
            "source": [
                "\n",
                "**16. Calculate inner, outer, and cross products of matrices and vectors using NumPy**"
            ]
        },
        {
            "cell_type": "code",
            "execution_count": 41,
            "metadata": {},
            "outputs": [
                {
                    "name": "stdout",
                    "output_type": "stream",
                    "text": [
                        "11\n",
                        "[[3 4]\n",
                        " [6 8]]\n",
                        "[-4 -4]\n",
                        "-2\n"
                    ]
                }
            ],
            "source": [
                "import numpy as np\n",
                "\n",
                "matrix1 = np.array([[1, 2], [3, 4]])\n",
                "matrix2 = np.array([[5, 6], [7, 8]])\n",
                "vector1 = np.array([1, 2])\n",
                "vector2 = np.array([3, 4])\n",
                "\n",
                "inner_product = np.inner(vector1, vector2)\n",
                "outer_product = np.outer(vector1, vector2)\n",
                "cross_product_matrix = np.cross(matrix1, matrix2)\n",
                "cross_product_vector = np.cross(vector1, vector2)\n",
                "\n",
                "print(inner_product)\n",
                "print(outer_product)\n",
                "print(cross_product_matrix)\n",
                "print(cross_product_vector)\n"
            ]
        },
        {
            "attachments": {},
            "cell_type": "markdown",
            "metadata": {},
            "source": [
                "\n",
                "**17. Compute the covariance matrix of two given NumPy arrays**"
            ]
        },
        {
            "cell_type": "code",
            "execution_count": 42,
            "metadata": {},
            "outputs": [
                {
                    "name": "stdout",
                    "output_type": "stream",
                    "text": [
                        "[[1. 1.]\n",
                        " [1. 1.]]\n"
                    ]
                }
            ],
            "source": [
                "import numpy as np\n",
                "\n",
                "array1 = np.array([1, 2, 3])\n",
                "array2 = np.array([4, 5, 6])\n",
                "covariance_matrix = np.cov(array1, array2)\n",
                "print(covariance_matrix)\n"
            ]
        },
        {
            "attachments": {},
            "cell_type": "markdown",
            "metadata": {},
            "source": [
                "\n",
                "**18. Convert covariance matrix to correlation matrix using Python**"
            ]
        },
        {
            "cell_type": "code",
            "execution_count": 43,
            "metadata": {},
            "outputs": [
                {
                    "name": "stdout",
                    "output_type": "stream",
                    "text": [
                        "[[1.  0.5]\n",
                        " [0.5 1. ]]\n"
                    ]
                }
            ],
            "source": [
                "import numpy as np\n",
                "\n",
                "covariance_matrix = np.array([[2.0, 1.0], [1.0, 2.0]])\n",
                "std_devs = np.sqrt(np.diag(covariance_matrix))\n",
                "correlation_matrix = covariance_matrix / np.outer(std_devs, std_devs)\n",
                "print(correlation_matrix)\n"
            ]
        },
        {
            "attachments": {},
            "cell_type": "markdown",
            "metadata": {},
            "source": [
                "\n",
                "**19. Compute the Kronecker product of two multidimensional NumPy arrays**"
            ]
        },
        {
            "cell_type": "code",
            "execution_count": 44,
            "metadata": {},
            "outputs": [
                {
                    "name": "stdout",
                    "output_type": "stream",
                    "text": [
                        "[[ 5  6 10 12]\n",
                        " [ 7  8 14 16]\n",
                        " [15 18 20 24]\n",
                        " [21 24 28 32]]\n"
                    ]
                }
            ],
            "source": [
                "import numpy as np\n",
                "\n",
                "array1 = np.array([[1, 2], [3, 4]])\n",
                "array2 = np.array([[5, 6], [7, 8]])\n",
                "kronecker_product = np.kron(array1, array2)\n",
                "print(kronecker_product)\n"
            ]
        },
        {
            "attachments": {},
            "cell_type": "markdown",
            "metadata": {},
            "source": [
                "\n",
                "**20. Convert the matrix into a list**"
            ]
        },
        {
            "cell_type": "code",
            "execution_count": 45,
            "metadata": {},
            "outputs": [
                {
                    "name": "stdout",
                    "output_type": "stream",
                    "text": [
                        "[[1, 2, 3], [4, 5, 6], [7, 8, 9]]\n"
                    ]
                }
            ],
            "source": [
                "import numpy as np\n",
                "\n",
                "matrix = np.array([[1\n",
                "\n",
                ", 2, 3], [4, 5, 6], [7, 8, 9]])\n",
                "matrix_list = matrix.tolist()\n",
                "print(matrix_list)"
            ]
        },
        {
            "attachments": {},
            "cell_type": "markdown",
            "metadata": {},
            "source": [
                "# Questions on NumPy Indexing"
            ]
        },
        {
            "attachments": {},
            "cell_type": "markdown",
            "metadata": {},
            "source": [
                "**1. Replace NumPy array elements that don't satisfy the given condition**"
            ]
        },
        {
            "cell_type": "code",
            "execution_count": 46,
            "metadata": {},
            "outputs": [
                {
                    "name": "stdout",
                    "output_type": "stream",
                    "text": [
                        "[0 0 0 4 5]\n"
                    ]
                }
            ],
            "source": [
                "import numpy as np\n",
                "\n",
                "array = np.array([1, 2, 3, 4, 5])\n",
                "condition = array > 3\n",
                "array[~condition] = 0\n",
                "print(array)\n"
            ]
        },
        {
            "attachments": {},
            "cell_type": "markdown",
            "metadata": {},
            "source": [
                "\n",
                "**2. Return the indices of elements where the given condition is satisfied**"
            ]
        },
        {
            "cell_type": "code",
            "execution_count": 47,
            "metadata": {},
            "outputs": [
                {
                    "name": "stdout",
                    "output_type": "stream",
                    "text": [
                        "(array([3, 4], dtype=int64),)\n"
                    ]
                }
            ],
            "source": [
                "import numpy as np\n",
                "\n",
                "array = np.array([1, 2, 3, 4, 5])\n",
                "condition = array > 3\n",
                "indices = np.where(condition)\n",
                "print(indices)\n"
            ]
        },
        {
            "attachments": {},
            "cell_type": "markdown",
            "metadata": {},
            "source": [
                "\n",
                "**3. Replace NaN values with the average of columns**"
            ]
        },
        {
            "cell_type": "code",
            "execution_count": 48,
            "metadata": {},
            "outputs": [
                {
                    "name": "stdout",
                    "output_type": "stream",
                    "text": [
                        "[[ 0.  1.]\n",
                        " [nan  3.]\n",
                        " [ 4.  5.]]\n",
                        "[[0. 1.]\n",
                        " [2. 3.]\n",
                        " [4. 5.]]\n"
                    ]
                }
            ],
            "source": [
                "import numpy as np\n",
                "\n",
                "rng = np.random\n",
                "array = np.array([[0, 1],[np.nan, 3],[4, 5]])\n",
                "print(array)\n",
                "\n",
                "column_average = np.nanmean(array, axis=0)\n",
                "\n",
                "mask = np.isnan(array)\n",
                "\n",
                "array[mask] = np.take(column_average, np.where(mask)[1])\n",
                "\n",
                "print(array)\n"
            ]
        },
        {
            "attachments": {},
            "cell_type": "markdown",
            "metadata": {},
            "source": [
                "\n",
                "**4. Replace negative values with zero in a NumPy array**"
            ]
        },
        {
            "cell_type": "code",
            "execution_count": 49,
            "metadata": {},
            "outputs": [
                {
                    "name": "stdout",
                    "output_type": "stream",
                    "text": [
                        "[0 2 0 4 0]\n"
                    ]
                }
            ],
            "source": [
                "import numpy as np\n",
                "\n",
                "array = np.array([-1, 2, -3, 4, -5])\n",
                "array[array < 0] = 0\n",
                "print(array)\n"
            ]
        },
        {
            "attachments": {},
            "cell_type": "markdown",
            "metadata": {},
            "source": [
                "\n",
                "**5. How to get values of a NumPy array at certain index positions?**"
            ]
        },
        {
            "cell_type": "code",
            "execution_count": 50,
            "metadata": {},
            "outputs": [
                {
                    "name": "stdout",
                    "output_type": "stream",
                    "text": [
                        "[1 3 5]\n"
                    ]
                }
            ],
            "source": [
                "import numpy as np\n",
                "\n",
                "array = np.array([1, 2, 3, 4, 5])\n",
                "indices = [0, 2, 4]\n",
                "values = array[indices]\n",
                "print(values)\n"
            ]
        },
        {
            "attachments": {},
            "cell_type": "markdown",
            "metadata": {},
            "source": [
                "\n",
                "**6. Find indices of elements equal to zero in a NumPy array**"
            ]
        },
        {
            "cell_type": "code",
            "execution_count": 51,
            "metadata": {},
            "outputs": [
                {
                    "name": "stdout",
                    "output_type": "stream",
                    "text": [
                        "[1 3 5]\n"
                    ]
                }
            ],
            "source": [
                "import numpy as np\n",
                "\n",
                "array = np.array([1, 0, 2, 0, 3, 0])\n",
                "indices = np.where(array == 0)[0]\n",
                "print(indices)\n"
            ]
        },
        {
            "attachments": {},
            "cell_type": "markdown",
            "metadata": {},
            "source": [
                "\n",
                "**7. How to remove columns in a NumPy array that contain non-numeric values?**"
            ]
        },
        {
            "cell_type": "code",
            "execution_count": 52,
            "metadata": {},
            "outputs": [
                {
                    "name": "stdout",
                    "output_type": "stream",
                    "text": [
                        "[['1']\n",
                        " ['4']\n",
                        " ['7']]\n"
                    ]
                }
            ],
            "source": [
                "import numpy as np\n",
                "\n",
                "array = np.array([[1, 2, 'A'], [4, 'B', 6], [7, 8, 9]])\n",
                "numeric_columns = array[:, np.all(np.char.isdigit(array), axis=0)]\n",
                "print(numeric_columns)\n"
            ]
        },
        {
            "attachments": {},
            "cell_type": "markdown",
            "metadata": {},
            "source": [
                "\n",
                "**8. How to access different rows of a multidimensional NumPy array?**"
            ]
        },
        {
            "cell_type": "code",
            "execution_count": 53,
            "metadata": {},
            "outputs": [
                {
                    "name": "stdout",
                    "output_type": "stream",
                    "text": [
                        "[[1 2 3]\n",
                        " [7 8 9]]\n"
                    ]
                }
            ],
            "source": [
                "import numpy as np\n",
                "\n",
                "array = np.array([[1, 2, 3], [4, 5, 6], [7, 8, 9]])\n",
                "rows = [0, 2]\n",
                "selected_rows = array[rows, :]\n",
                "print(selected_rows)\n"
            ]
        },
        {
            "attachments": {},
            "cell_type": "markdown",
            "metadata": {},
            "source": [
                "\n",
                "**9. Get row numbers of a NumPy array having an element larger than X**"
            ]
        },
        {
            "cell_type": "code",
            "execution_count": 54,
            "metadata": {},
            "outputs": [
                {
                    "name": "stdout",
                    "output_type": "stream",
                    "text": [
                        "[1 2]\n"
                    ]
                }
            ],
            "source": [
                "import numpy as np\n",
                "\n",
                "array = np.array([[1, 2, 3], [4, 5, 6], [7, 8, 9]])\n",
                "X = 4\n",
                "row_numbers = np.where(np.any(array > X, axis=1))[0]\n",
                "print(row_numbers)\n"
            ]
        },
        {
            "attachments": {},
            "cell_type": "markdown",
            "metadata": {},
            "source": [
                "\n",
                "**10. Get filled diagonals of a NumPy array**"
            ]
        },
        {
            "cell_type": "code",
            "execution_count": 55,
            "metadata": {},
            "outputs": [
                {
                    "name": "stdout",
                    "output_type": "stream",
                    "text": [
                        "[[10000     2     3]\n",
                        " [    4 10000     6]\n",
                        " [    7     8 10000]]\n"
                    ]
                }
            ],
            "source": [
                "import numpy as np\n",
                "\n",
                "array = np.array([[1, 2, 3], [4, 5, 6], [7, 8, 9]])\n",
                "np.fill_diagonal(array, 10000)\n",
                "print(array)"
            ]
        },
        {
            "attachments": {},
            "cell_type": "markdown",
            "metadata": {},
            "source": [
                "\n",
                "**11. Check elements present in the NumPy array**"
            ]
        },
        {
            "cell_type": "code",
            "execution_count": 56,
            "metadata": {},
            "outputs": [
                {
                    "name": "stdout",
                    "output_type": "stream",
                    "text": [
                        "[ True  True False]\n"
                    ]
                }
            ],
            "source": [
                "import numpy as np\n",
                "\n",
                "array = np.array([1, 2, 3, 4, 5])\n",
                "elements = [2, 4, 6]\n",
                "present = np.isin(elements, array)\n",
                "print(present)\n"
            ]
        },
        {
            "attachments": {},
            "cell_type": "markdown",
            "metadata": {},
            "source": [
                "\n",
                "**12. Combine arrays index by index**"
            ]
        },
        {
            "cell_type": "code",
            "execution_count": 57,
            "metadata": {},
            "outputs": [
                {
                    "name": "stdout",
                    "output_type": "stream",
                    "text": [
                        "[[1 4]\n",
                        " [2 5]\n",
                        " [3 6]]\n"
                    ]
                }
            ],
            "source": [
                "import numpy as np\n",
                "\n",
                "array1 = np.array([1, 2, 3])\n",
                "array2 = np.array([4, 5, 6])\n",
                "combined_array = np.stack((array1, array2), axis=-1)\n",
                "print(combined_array)"
            ]
        },
        {
            "attachments": {},
            "cell_type": "markdown",
            "metadata": {},
            "source": [
                "# Questions on NumPy Linear Algebra"
            ]
        },
        {
            "attachments": {},
            "cell_type": "markdown",
            "metadata": {},
            "source": [
                "**1. Find a matrix or vector norm using NumPy**"
            ]
        },
        {
            "cell_type": "code",
            "execution_count": 58,
            "metadata": {},
            "outputs": [
                {
                    "name": "stdout",
                    "output_type": "stream",
                    "text": [
                        "5.477225575051661\n",
                        "3.7416573867739413\n"
                    ]
                }
            ],
            "source": [
                "import numpy as np\n",
                "\n",
                "matrix = np.array([[1, 2], [3, 4]])\n",
                "vector = np.array([1, 2, 3])\n",
                "matrix_norm = np.linalg.norm(matrix)\n",
                "vector_norm = np.linalg.norm(vector)\n",
                "print(matrix_norm)\n",
                "print(vector_norm)\n"
            ]
        },
        {
            "attachments": {},
            "cell_type": "markdown",
            "metadata": {},
            "source": [
                "\n",
                "**2. Calculate the QR decomposition of a given matrix using NumPy**"
            ]
        },
        {
            "cell_type": "code",
            "execution_count": 59,
            "metadata": {},
            "outputs": [
                {
                    "name": "stdout",
                    "output_type": "stream",
                    "text": [
                        "[[-0.31622777 -0.9486833 ]\n",
                        " [-0.9486833   0.31622777]]\n",
                        "[[-3.16227766 -4.42718872]\n",
                        " [ 0.         -0.63245553]]\n"
                    ]
                }
            ],
            "source": [
                "import numpy as np\n",
                "\n",
                "matrix = np.array([[1, 2], [3, 4]])\n",
                "q, r = np.linalg.qr(matrix)\n",
                "print(q)\n",
                "print(r)\n"
            ]
        },
        {
            "attachments": {},
            "cell_type": "markdown",
            "metadata": {},
            "source": [
                "\n",
                "**3. Compute the condition number of a given matrix using NumPy**"
            ]
        },
        {
            "cell_type": "code",
            "execution_count": 60,
            "metadata": {},
            "outputs": [
                {
                    "name": "stdout",
                    "output_type": "stream",
                    "text": [
                        "14.933034373659265\n"
                    ]
                }
            ],
            "source": [
                "import numpy as np\n",
                "\n",
                "matrix = np.array([[1, 2], [3, 4]])\n",
                "condition_number = np.linalg.cond(matrix)\n",
                "print(condition_number)\n"
            ]
        },
        {
            "attachments": {},
            "cell_type": "markdown",
            "metadata": {},
            "source": [
                "\n",
                "**4. Compute the eigenvalues and right eigenvectors of a given square array using NumPy**"
            ]
        },
        {
            "cell_type": "code",
            "execution_count": 61,
            "metadata": {},
            "outputs": [
                {
                    "name": "stdout",
                    "output_type": "stream",
                    "text": [
                        "[-0.37228132  5.37228132]\n",
                        "[[-0.82456484 -0.41597356]\n",
                        " [ 0.56576746 -0.90937671]]\n"
                    ]
                }
            ],
            "source": [
                "import numpy as np\n",
                "\n",
                "matrix = np.array([[1, 2], [3, 4]])\n",
                "eigenvalues, eigenvectors = np.linalg.eig(matrix)\n",
                "print(eigenvalues)\n",
                "print(eigenvectors)\n"
            ]
        },
        {
            "attachments": {},
            "cell_type": "markdown",
            "metadata": {},
            "source": [
                "\n",
                "**5. Calculate the Euclidean distance using NumPy**"
            ]
        },
        {
            "cell_type": "code",
            "execution_count": 62,
            "metadata": {},
            "outputs": [
                {
                    "name": "stdout",
                    "output_type": "stream",
                    "text": [
                        "5.196152422706632\n"
                    ]
                }
            ],
            "source": [
                "import numpy as np\n",
                "\n",
                "point1 = np.array([1, 2, 3])\n",
                "point2 = np.array([4, 5, 6])\n",
                "euclidean_distance = np.linalg.norm(point2 - point1)\n",
                "print(euclidean_distance)"
            ]
        },
        {
            "attachments": {},
            "cell_type": "markdown",
            "metadata": {},
            "source": [
                "# Questions on NumPy Random"
            ]
        },
        {
            "attachments": {},
            "cell_type": "markdown",
            "metadata": {},
            "source": [
                "**1. Create a NumPy array with random values**"
            ]
        },
        {
            "cell_type": "code",
            "execution_count": 63,
            "metadata": {},
            "outputs": [
                {
                    "name": "stdout",
                    "output_type": "stream",
                    "text": [
                        "[[0.54688143 0.38255508 0.79411591]\n",
                        " [0.38217925 0.79509272 0.0095111 ]\n",
                        " [0.73465333 0.17328816 0.62549485]]\n"
                    ]
                }
            ],
            "source": [
                "import numpy as np\n",
                "\n",
                "random_array = np.random.rand(3, 3)\n",
                "print(random_array)\n"
            ]
        },
        {
            "attachments": {},
            "cell_type": "markdown",
            "metadata": {},
            "source": [
                "\n",
                "**2. How to choose elements from the list with different probabilities using NumPy?**"
            ]
        },
        {
            "cell_type": "code",
            "execution_count": 64,
            "metadata": {},
            "outputs": [
                {
                    "name": "stdout",
                    "output_type": "stream",
                    "text": [
                        "[2 1 5]\n"
                    ]
                }
            ],
            "source": [
                "import numpy as np\n",
                "\n",
                "list_values = [1, 2, 3, 4, 5]\n",
                "probabilities = [0.1, 0.2, 0.3, 0.2, 0.2]\n",
                "random_choice = np.random.choice(list_values, size=3, p=probabilities)\n",
                "print(random_choice)\n"
            ]
        },
        {
            "attachments": {},
            "cell_type": "markdown",
            "metadata": {},
            "source": [
                "\n",
                "**3. How to get weighted random choice in Python?**"
            ]
        },
        {
            "cell_type": "code",
            "execution_count": 65,
            "metadata": {},
            "outputs": [
                {
                    "name": "stdout",
                    "output_type": "stream",
                    "text": [
                        "2\n"
                    ]
                }
            ],
            "source": [
                "import numpy as np\n",
                "\n",
                "list_values = [1, 2, 3, 4, 5]\n",
                "weights = [0.1, 0.2, 0.3, 0.2, 0.2]\n",
                "random_choice = np.random.choice(list_values, p=weights)\n",
                "print(random_choice)\n"
            ]
        },
        {
            "attachments": {},
            "cell_type": "markdown",
            "metadata": {},
            "source": [
                "\n",
                "**4. Generate Random Numbers From The Uniform Distribution using NumPy**"
            ]
        },
        {
            "cell_type": "code",
            "execution_count": 66,
            "metadata": {},
            "outputs": [
                {
                    "name": "stdout",
                    "output_type": "stream",
                    "text": [
                        "[0.46355968 0.90474201 0.63983335 0.53548203 0.52864653]\n"
                    ]
                }
            ],
            "source": [
                "import numpy as np\n",
                "\n",
                "random_numbers = np.random.uniform(low=0.0, high=1.0, size=5)\n",
                "print(random_numbers)\n"
            ]
        },
        {
            "attachments": {},
            "cell_type": "markdown",
            "metadata": {},
            "source": [
                "\n",
                "**5. Get Random Elements from the geometric distribution**"
            ]
        },
        {
            "cell_type": "code",
            "execution_count": 67,
            "metadata": {},
            "outputs": [
                {
                    "name": "stdout",
                    "output_type": "stream",
                    "text": [
                        "[3 2 1 1 4]\n"
                    ]
                }
            ],
            "source": [
                "import numpy as np\n",
                "\n",
                "random_elements = np.random.geometric(p=0.5, size=5)\n",
                "print(random_elements)\n"
            ]
        },
        {
            "attachments": {},
            "cell_type": "markdown",
            "metadata": {},
            "source": [
                "\n",
                "**6. Get Random Elements from the Laplace distribution**"
            ]
        },
        {
            "cell_type": "code",
            "execution_count": 68,
            "metadata": {},
            "outputs": [
                {
                    "name": "stdout",
                    "output_type": "stream",
                    "text": [
                        "[-3.71715075 -0.07206951  0.22931475 -0.9872664   0.1587719 ]\n"
                    ]
                }
            ],
            "source": [
                "import numpy as np\n",
                "\n",
                "random_elements = np.random.laplace(loc=0.0, scale=1.0, size=5)\n",
                "print(random_elements)\n"
            ]
        },
        {
            "attachments": {},
            "cell_type": "markdown",
            "metadata": {},
            "source": [
                "\n",
                "**7. Return a Matrix of random values from a uniform distribution**"
            ]
        },
        {
            "cell_type": "code",
            "execution_count": 69,
            "metadata": {},
            "outputs": [
                {
                    "name": "stdout",
                    "output_type": "stream",
                    "text": [
                        "[[0.30512166 0.84927911 0.60008274]\n",
                        " [0.91445066 0.23463355 0.49065899]\n",
                        " [0.70082645 0.62630084 0.90919355]]\n"
                    ]
                }
            ],
            "source": [
                "import numpy as np\n",
                "\n",
                "random_matrix = np.random.uniform(low=0.0, high=1.0, size=(3, 3))\n",
                "print(random_matrix)\n"
            ]
        },
        {
            "attachments": {},
            "cell_type": "markdown",
            "metadata": {},
            "source": [
                "\n",
                "**8. Return a Matrix of random values from a Gaussian distribution**"
            ]
        },
        {
            "cell_type": "code",
            "execution_count": 70,
            "metadata": {},
            "outputs": [
                {
                    "name": "stdout",
                    "output_type": "stream",
                    "text": [
                        "[[ 0.87488599  0.80798031 -0.77549832]\n",
                        " [ 0.46572809  0.83593059 -1.13611615]\n",
                        " [ 0.10412415  1.02849097 -1.43940369]]\n"
                    ]
                }
            ],
            "source": [
                "import numpy as np\n",
                "\n",
                "random_matrix = np.random.normal(loc=0.0, scale=1.0, size=(3, 3))\n",
                "print(random_matrix)"
            ]
        },
        {
            "attachments": {},
            "cell_type": "markdown",
            "metadata": {},
            "source": [
                "# Questions on NumPy Sorting and Searching"
            ]
        },
        {
            "attachments": {},
            "cell_type": "markdown",
            "metadata": {},
            "source": [
                "**1. How to get the indices of the sorted array using NumPy in Python?**"
            ]
        },
        {
            "cell_type": "code",
            "execution_count": 71,
            "metadata": {},
            "outputs": [
                {
                    "name": "stdout",
                    "output_type": "stream",
                    "text": [
                        "[1 3 0 2 4]\n"
                    ]
                }
            ],
            "source": [
                "import numpy as np\n",
                "\n",
                "array = np.array([3, 1, 4, 2, 5])\n",
                "sorted_indices = np.argsort(array)\n",
                "print(sorted_indices)\n"
            ]
        },
        {
            "attachments": {},
            "cell_type": "markdown",
            "metadata": {},
            "source": [
                "\n",
                "**2. Finding the k smallest values of a NumPy array**"
            ]
        },
        {
            "cell_type": "code",
            "execution_count": 72,
            "metadata": {},
            "outputs": [
                {
                    "name": "stdout",
                    "output_type": "stream",
                    "text": [
                        "[2 3 1]\n"
                    ]
                }
            ],
            "source": [
                "import numpy as np\n",
                "\n",
                "array = np.array([3, 1, 4, 2, 5])\n",
                "k = 3\n",
                "smallest_values = np.partition(array, k)[:k]\n",
                "print(smallest_values)\n"
            ]
        },
        {
            "attachments": {},
            "cell_type": "markdown",
            "metadata": {},
            "source": [
                "\n",
                "**3. How to get the n-largest values of an array using NumPy?**"
            ]
        },
        {
            "cell_type": "code",
            "execution_count": 73,
            "metadata": {},
            "outputs": [
                {
                    "name": "stdout",
                    "output_type": "stream",
                    "text": [
                        "[4 5]\n"
                    ]
                }
            ],
            "source": [
                "import numpy as np\n",
                "\n",
                "array = np.array([3, 1, 4, 2, 5])\n",
                "n = 2\n",
                "largest_values = np.partition(array, -n)[-n:]\n",
                "print(largest_values)\n"
            ]
        },
        {
            "attachments": {},
            "cell_type": "markdown",
            "metadata": {},
            "source": [
                "\n",
                "**4. Sort the values in a matrix**"
            ]
        },
        {
            "cell_type": "code",
            "execution_count": 74,
            "metadata": {},
            "outputs": [
                {
                    "name": "stdout",
                    "output_type": "stream",
                    "text": [
                        "[1 2 3 4 5 6 7 8 9]\n"
                    ]
                }
            ],
            "source": [
                "import numpy as np\n",
                "\n",
                "matrix = np.array([[3, 2, 1], [6, 5, 4], [9, 8, 7]])\n",
                "sorted_matrix = np.sort(matrix, axis=None)\n",
                "print(sorted_matrix)\n"
            ]
        },
        {
            "attachments": {},
            "cell_type": "markdown",
            "metadata": {},
            "source": [
                "\n",
                "**5. Filter out integers from a float NumPy array**"
            ]
        },
        {
            "cell_type": "code",
            "execution_count": 75,
            "metadata": {},
            "outputs": [
                {
                    "name": "stdout",
                    "output_type": "stream",
                    "text": [
                        "[5.]\n"
                    ]
                }
            ],
            "source": [
                "import numpy as np\n",
                "\n",
                "array = np.array([1.5, 2.7, 3.2, 4.9, 5.0])\n",
                "filtered_array = array[np.isclose(array, np.round(array))]\n",
                "print(filtered_array)\n"
            ]
        },
        {
            "attachments": {},
            "cell_type": "markdown",
            "metadata": {},
            "source": [
                "\n",
                "**6. Find the indices into a sorted array**"
            ]
        },
        {
            "cell_type": "code",
            "execution_count": 76,
            "metadata": {},
            "outputs": [
                {
                    "name": "stdout",
                    "output_type": "stream",
                    "text": [
                        "[1 3 5]\n"
                    ]
                }
            ],
            "source": [
                "import numpy as np\n",
                "\n",
                "sorted_array = np.array([1, 2, 3, 4, 5])\n",
                "indices = np.searchsorted(sorted_array, [2, 4, 6])\n",
                "print(indices)"
            ]
        },
        {
            "attachments": {},
            "cell_type": "markdown",
            "metadata": {},
            "source": [
                "# Questions on NumPy Mathematics"
            ]
        },
        {
            "attachments": {},
            "cell_type": "markdown",
            "metadata": {},
            "source": [
                "**1. How to get element-wise true division of an array using NumPy?**"
            ]
        },
        {
            "cell_type": "code",
            "execution_count": 77,
            "metadata": {},
            "outputs": [
                {
                    "name": "stdout",
                    "output_type": "stream",
                    "text": [
                        "[0.25 0.4  0.5 ]\n"
                    ]
                }
            ],
            "source": [
                "import numpy as np\n",
                "\n",
                "array1 = np.array([1, 2, 3])\n",
                "array2 = np.array([4, 5, 6])\n",
                "result = np.true_divide(array1, array2)\n",
                "print(result)\n"
            ]
        },
        {
            "attachments": {},
            "cell_type": "markdown",
            "metadata": {},
            "source": [
                "\n",
                "**2. How to calculate the element-wise absolute value of a NumPy array?**"
            ]
        },
        {
            "cell_type": "code",
            "execution_count": 78,
            "metadata": {},
            "outputs": [
                {
                    "name": "stdout",
                    "output_type": "stream",
                    "text": [
                        "[1 2 3 4 5]\n"
                    ]
                }
            ],
            "source": [
                "import numpy as np\n",
                "\n",
                "array = np.array([-1, -2, 3, -4, 5])\n",
                "absolute_value = np.absolute(array)\n",
                "print(absolute_value)\n"
            ]
        },
        {
            "attachments": {},
            "cell_type": "markdown",
            "metadata": {},
            "source": [
                "\n",
                "**3. Compute the negative of the NumPy array**"
            ]
        },
        {
            "cell_type": "code",
            "execution_count": 79,
            "metadata": {},
            "outputs": [
                {
                    "name": "stdout",
                    "output_type": "stream",
                    "text": [
                        "[-1  2 -3  4 -5]\n"
                    ]
                }
            ],
            "source": [
                "import numpy as np\n",
                "\n",
                "array = np.array([1, -2, 3, -4, 5])\n",
                "negative_array = np.negative(array)\n",
                "print(negative_array)\n"
            ]
        },
        {
            "attachments": {},
            "cell_type": "markdown",
            "metadata": {},
            "source": [
                "\n",
                "**4. Multiply a 2D NumPy array corresponding to a 1D array**"
            ]
        },
        {
            "cell_type": "code",
            "execution_count": 80,
            "metadata": {},
            "outputs": [
                {
                    "name": "stdout",
                    "output_type": "stream",
                    "text": [
                        "[17 20 23 26]\n"
                    ]
                }
            ],
            "source": [
                "import numpy as np\n",
                "\n",
                "array1 = np.array([1, 2])\n",
                "array2 = np.array([[3, 4, 5, 6], [7, 8, 9, 10]])\n",
                "result = np.dot(array1, array2)\n",
                "print(result)\n"
            ]
        },
        {
            "attachments": {},
            "cell_type": "markdown",
            "metadata": {},
            "source": [
                "\n",
                "**5. Compute the inner product of two arrays**"
            ]
        },
        {
            "cell_type": "code",
            "execution_count": 81,
            "metadata": {},
            "outputs": [
                {
                    "name": "stdout",
                    "output_type": "stream",
                    "text": [
                        "32\n"
                    ]
                }
            ],
            "source": [
                "import numpy as np\n",
                "\n",
                "array1 = np.array([1, 2, 3])\n",
                "array2 = np.array([4, 5, 6])\n",
                "inner_product = np.inner(array1, array2)\n",
                "print(inner_product)\n"
            ]
        },
        {
            "attachments": {},
            "cell_type": "markdown",
            "metadata": {},
            "source": [
                "\n",
                "**6. Compute the nth percentile of a NumPy array**"
            ]
        },
        {
            "cell_type": "code",
            "execution_count": 82,
            "metadata": {},
            "outputs": [
                {
                    "name": "stdout",
                    "output_type": "stream",
                    "text": [
                        "3.0\n"
                    ]
                }
            ],
            "source": [
                "import numpy as np\n",
                "\n",
                "array = np.array([1, 2, 3, 4, 5])\n",
                "percentile = np.percentile(array, 50)\n",
                "print(percentile)\n"
            ]
        },
        {
            "attachments": {},
            "cell_type": "markdown",
            "metadata": {},
            "source": [
                "\n",
                "**7. Calculate the n-th order discrete difference along the given axis**"
            ]
        },
        {
            "cell_type": "code",
            "execution_count": 83,
            "metadata": {},
            "outputs": [
                {
                    "name": "stdout",
                    "output_type": "stream",
                    "text": [
                        "[2 2 2]\n"
                    ]
                }
            ],
            "source": [
                "import numpy as np\n",
                "\n",
                "array = np.array([1, 4, 9, 16, 25])\n",
                "difference = np.diff(array, n=2)\n",
                "print(difference)\n"
            ]
        },
        {
            "attachments": {},
            "cell_type": "markdown",
            "metadata": {},
            "source": [
                "\n",
                "**8. Calculate the sum of all columns in a 2D NumPy array**"
            ]
        },
        {
            "cell_type": "code",
            "execution_count": 84,
            "metadata": {},
            "outputs": [
                {
                    "name": "stdout",
                    "output_type": "stream",
                    "text": [
                        "[5 7 9]\n"
                    ]
                }
            ],
            "source": [
                "import numpy as np\n",
                "\n",
                "array = np.array([[1, 2, 3], [4, 5, 6]])\n",
                "column_sums = np.sum(array, axis=0)\n",
                "print(column_sums)\n"
            ]
        },
        {
            "attachments": {},
            "cell_type": "markdown",
            "metadata": {},
            "source": [
                "\n",
                "**9. Calculate average values of two given NumPy arrays**"
            ]
        },
        {
            "cell_type": "code",
            "execution_count": 85,
            "metadata": {},
            "outputs": [
                {
                    "name": "stdout",
                    "output_type": "stream",
                    "text": [
                        "[2.5 3.5 4.5]\n"
                    ]
                }
            ],
            "source": [
                "import numpy as np\n",
                "\n",
                "array1 = np.array([1, 2, 3])\n",
                "array2 = np.array([4, 5, 6])\n",
                "average = np.average([array1, array2], axis=0)\n",
                "print(average)\n"
            ]
        },
        {
            "attachments": {},
            "cell_type": "markdown",
            "metadata": {},
            "source": [
                "\n",
                "**10. How to compute the numerical negative value for all elements in a given NumPy array?**"
            ]
        },
        {
            "cell_type": "code",
            "execution_count": 86,
            "metadata": {},
            "outputs": [
                {
                    "name": "stdout",
                    "output_type": "stream",
                    "text": [
                        "[-1  2 -3  4 -5]\n"
                    ]
                }
            ],
            "source": [
                "import numpy as np\n",
                "\n",
                "array = np.array([1, -2, 3, -4, 5])\n",
                "negative_values = np.negative(array)\n",
                "print(negative_values)\n"
            ]
        },
        {
            "attachments": {},
            "cell_type": "markdown",
            "metadata": {},
            "source": [
                "\n",
                "**11. How to get the floor, ceiling, and truncated values of the elements of a NumPy array?**"
            ]
        },
        {
            "cell_type": "code",
            "execution_count": 87,
            "metadata": {},
            "outputs": [
                {
                    "name": "stdout",
                    "output_type": "stream",
                    "text": [
                        "[-2. -2. -1.  0.  0.  1.  1.]\n",
                        "[-1. -1. -0.  1.  1.  2.  2.]\n",
                        "[-1. -1. -0.  0.  0.  1.  1.]\n"
                    ]
                }
            ],
            "source": [
                "import numpy as np\n",
                "\n",
                "array = np.array([-1.5, -1.2, -0.8, 0.2, 0.8, 1.2, 1.5])\n",
                "floor_values = np.floor(array)\n",
                "ceiling_values = np.ceil(array)\n",
                "truncated_values = np.trunc(array)\n",
                "print(floor_values)\n",
                "print(ceiling_values)\n",
                "print(truncated_values)\n"
            ]
        },
        {
            "attachments": {},
            "cell_type": "markdown",
            "metadata": {},
            "source": [
                "\n",
                "**12. How to round elements of the NumPy array to the nearest integer?**"
            ]
        },
        {
            "cell_type": "code",
            "execution_count": 88,
            "metadata": {},
            "outputs": [
                {
                    "name": "stdout",
                    "output_type": "stream",
                    "text": [
                        "[-2. -1. -1.  0.  1.  1.  2.]\n"
                    ]
                }
            ],
            "source": [
                "import numpy as np\n",
                "\n",
                "array = np.array([-1.5, -1.2, -0.8, 0.2, 0.8, 1.2, 1.5])\n",
                "rounded_values = np.round(array)\n",
                "print(rounded_values)\n"
            ]
        },
        {
            "attachments": {},
            "cell_type": "markdown",
            "metadata": {},
            "source": [
                "\n",
                "**13. Find the round-off values of the given matrix**"
            ]
        },
        {
            "cell_type": "code",
            "execution_count": 89,
            "metadata": {},
            "outputs": [
                {
                    "name": "stdout",
                    "output_type": "stream",
                    "text": [
                        "[[1. 3.]\n",
                        " [4. 4.]]\n"
                    ]
                }
            ],
            "source": [
                "import numpy as np\n",
                "\n",
                "matrix = np.array([[1.1, 2.7], [3.5, 4.2]])\n",
                "rounded_matrix = np.round(matrix)\n",
                "print(rounded_matrix)\n"
            ]
        },
        {
            "attachments": {},
            "cell_type": "markdown",
            "metadata": {},
            "source": [
                "\n",
                "**14. Determine the positive square root of an array**"
            ]
        },
        {
            "cell_type": "code",
            "execution_count": 90,
            "metadata": {},
            "outputs": [
                {
                    "name": "stdout",
                    "output_type": "stream",
                    "text": [
                        "[1. 2. 3. 4. 5.]\n"
                    ]
                }
            ],
            "source": [
                "import numpy as np\n",
                "\n",
                "array = np.array([1, 4, 9, 16, 25])\n",
                "positive_square_root = np.sqrt(array)\n",
                "print(positive_square_root)\n"
            ]
        },
        {
            "attachments": {},
            "cell_type": "markdown",
            "metadata": {},
            "source": [
                "\n",
                "**15. Evaluate Einstein's summation convention of two multidimensional NumPy arrays**"
            ]
        },
        {
            "cell_type": "code",
            "execution_count": 91,
            "metadata": {},
            "outputs": [
                {
                    "name": "stdout",
                    "output_type": "stream",
                    "text": [
                        "70\n"
                    ]
                }
            ],
            "source": [
                "import numpy as np\n",
                "\n",
                "array1 = np.array([[1, 2], [3, 4]])\n",
                "array2 = np.array([[5, 6], [7, 8]])\n",
                "result = np.einsum('ij,ij', array1, array2)\n",
                "print(result)"
            ]
        },
        {
            "attachments": {},
            "cell_type": "markdown",
            "metadata": {},
            "source": [
                "# Questions on NumPy Statistics"
            ]
        },
        {
            "attachments": {},
            "cell_type": "markdown",
            "metadata": {},
            "source": [
                "**1. Compute the median of the flattened NumPy array**"
            ]
        },
        {
            "cell_type": "code",
            "execution_count": 92,
            "metadata": {},
            "outputs": [
                {
                    "name": "stdout",
                    "output_type": "stream",
                    "text": [
                        "3.5\n"
                    ]
                }
            ],
            "source": [
                "import numpy as np\n",
                "\n",
                "array = np.array([[1, 2, 3], [4, 5, 6]])\n",
                "median = np.median(array)\n",
                "print(median)\n"
            ]
        },
        {
            "attachments": {},
            "cell_type": "markdown",
            "metadata": {},
            "source": [
                "\n",
                "**2. Find the mean of a list of NumPy arrays**"
            ]
        },
        {
            "cell_type": "code",
            "execution_count": 93,
            "metadata": {},
            "outputs": [
                {
                    "name": "stdout",
                    "output_type": "stream",
                    "text": [
                        "3.5\n"
                    ]
                }
            ],
            "source": [
                "import numpy as np\n",
                "\n",
                "array1 = np.array([1, 2, 3])\n",
                "array2 = np.array([4, 5, 6])\n",
                "mean = np.mean([array1, array2])\n",
                "print(mean)\n"
            ]
        },
        {
            "attachments": {},
            "cell_type": "markdown",
            "metadata": {},
            "source": [
                "\n",
                "**3. Calculate the mean of an array ignoring the NaN value**"
            ]
        },
        {
            "cell_type": "code",
            "execution_count": 94,
            "metadata": {},
            "outputs": [
                {
                    "name": "stdout",
                    "output_type": "stream",
                    "text": [
                        "3.0\n"
                    ]
                }
            ],
            "source": [
                "import numpy as np\n",
                "\n",
                "array = np.array([1, 2, np.nan, 4, 5])\n",
                "mean = np.nanmean(array)\n",
                "print(mean)\n"
            ]
        },
        {
            "attachments": {},
            "cell_type": "markdown",
            "metadata": {},
            "source": [
                "\n",
                "**4. Get the mean value from a given matrix**"
            ]
        },
        {
            "cell_type": "code",
            "execution_count": 95,
            "metadata": {},
            "outputs": [
                {
                    "name": "stdout",
                    "output_type": "stream",
                    "text": [
                        "3.5\n"
                    ]
                }
            ],
            "source": [
                "import numpy as np\n",
                "\n",
                "matrix = np.array([[1, 2, 3], [4, 5, 6]])\n",
                "mean = np.mean(matrix)\n",
                "print(mean)\n"
            ]
        },
        {
            "attachments": {},
            "cell_type": "markdown",
            "metadata": {},
            "source": [
                "\n",
                "**5. Compute the variance of the NumPy array**"
            ]
        },
        {
            "cell_type": "code",
            "execution_count": 96,
            "metadata": {},
            "outputs": [
                {
                    "name": "stdout",
                    "output_type": "stream",
                    "text": [
                        "2.0\n"
                    ]
                }
            ],
            "source": [
                "import numpy as np\n",
                "\n",
                "array = np.array([1, 2, 3, 4, 5])\n",
                "variance = np.var(array)\n",
                "print(variance)\n"
            ]
        },
        {
            "attachments": {},
            "cell_type": "markdown",
            "metadata": {},
            "source": [
                "\n",
                "**6. Compute the standard deviation of the NumPy array**"
            ]
        },
        {
            "cell_type": "code",
            "execution_count": 97,
            "metadata": {},
            "outputs": [
                {
                    "name": "stdout",
                    "output_type": "stream",
                    "text": [
                        "1.4142135623730951\n"
                    ]
                }
            ],
            "source": [
                "import numpy as np\n",
                "\n",
                "array = np.array([1, 2, 3, 4, 5])\n",
                "std_deviation = np.std(array)\n",
                "print(std_deviation)\n"
            ]
        },
        {
            "attachments": {},
            "cell_type": "markdown",
            "metadata": {},
            "source": [
                "\n",
                "**7. Compute Pearson product-moment correlation coefficients of two given NumPy arrays**"
            ]
        },
        {
            "cell_type": "code",
            "execution_count": 98,
            "metadata": {},
            "outputs": [
                {
                    "name": "stdout",
                    "output_type": "stream",
                    "text": [
                        "1.0\n"
                    ]
                }
            ],
            "source": [
                "import numpy as np\n",
                "\n",
                "array1 = np.array([1, 2, 3])\n",
                "array2 = np.array([4, 5, 6])\n",
                "correlation_coefficient = np.corrcoef(array1, array2)[0, 1]\n",
                "print(correlation_coefficient)\n"
            ]
        },
        {
            "attachments": {},
            "cell_type": "markdown",
            "metadata": {},
            "source": [
                "\n",
                "**8. Calculate the mean across dimensions in a 2D NumPy array**"
            ]
        },
        {
            "cell_type": "code",
            "execution_count": 99,
            "metadata": {},
            "outputs": [
                {
                    "name": "stdout",
                    "output_type": "stream",
                    "text": [
                        "[2.5 3.5 4.5]\n"
                    ]
                }
            ],
            "source": [
                "import numpy as np\n",
                "\n",
                "array = np.array([[1, 2, 3], [4, 5, 6]])\n",
                "mean_across_dimensions = np.mean(array, axis=0)\n",
                "print(mean_across_dimensions)\n"
            ]
        },
        {
            "attachments": {},
            "cell_type": "markdown",
            "metadata": {},
            "source": [
                "\n",
                "**9. Calculate the average, variance, and standard deviation in Python using NumPy**"
            ]
        },
        {
            "cell_type": "code",
            "execution_count": 100,
            "metadata": {},
            "outputs": [
                {
                    "name": "stdout",
                    "output_type": "stream",
                    "text": [
                        "3.0\n",
                        "2.0\n",
                        "1.4142135623730951\n"
                    ]
                }
            ],
            "source": [
                "import numpy as np\n",
                "\n",
                "array = np.array([1, 2, 3, 4, 5])\n",
                "average = np.average(array)\n",
                "variance = np.var(array)\n",
                "std_deviation = np.std(array)\n",
                "print(average)\n",
                "print(variance)\n",
                "print(std_deviation)\n"
            ]
        },
        {
            "attachments": {},
            "cell_type": "markdown",
            "metadata": {},
            "source": [
                "\n",
                "**10. Describe a NumPy Array in Python**"
            ]
        },
        {
            "cell_type": "code",
            "execution_count": 101,
            "metadata": {},
            "outputs": [
                {
                    "name": "stdout",
                    "output_type": "stream",
                    "text": [
                        "[1 2 3 4 5]\n"
                    ]
                }
            ],
            "source": [
                "import numpy as np\n",
                "\n",
                "array = np.array([1, 2, 3, 4, 5])\n",
                "description = np.array_str(array)\n",
                "print(description)"
            ]
        },
        {
            "attachments": {},
            "cell_type": "markdown",
            "metadata": {},
            "source": [
                "# Questions on NumPy Polynomial"
            ]
        },
        {
            "attachments": {},
            "cell_type": "markdown",
            "metadata": {},
            "source": [
                "**1. Define a polynomial function**"
            ]
        },
        {
            "cell_type": "code",
            "execution_count": 102,
            "metadata": {},
            "outputs": [
                {
                    "name": "stdout",
                    "output_type": "stream",
                    "text": [
                        "   2\n",
                        "1 x + 2 x + 3\n"
                    ]
                }
            ],
            "source": [
                "import numpy as np\n",
                "\n",
                "coefficients = [1, 2, 3]  # Coefficients of the polynomial in decreasing order of powers\n",
                "poly_function = np.poly1d(coefficients)\n",
                "print(poly_function)\n"
            ]
        },
        {
            "attachments": {},
            "cell_type": "markdown",
            "metadata": {},
            "source": [
                "\n",
                "**2. How to add one polynomial to another using NumPy in Python?**"
            ]
        },
        {
            "cell_type": "code",
            "execution_count": 103,
            "metadata": {},
            "outputs": [
                {
                    "name": "stdout",
                    "output_type": "stream",
                    "text": [
                        "   2\n",
                        "5 x + 7 x + 9\n"
                    ]
                }
            ],
            "source": [
                "import numpy as np\n",
                "\n",
                "poly1 = np.poly1d([1, 2, 3])  # First polynomial\n",
                "poly2 = np.poly1d([4, 5, 6])  # Second polynomial\n",
                "poly_sum = np.polyadd(poly1, poly2)\n",
                "print(poly_sum)\n"
            ]
        },
        {
            "attachments": {},
            "cell_type": "markdown",
            "metadata": {},
            "source": [
                "\n",
                "**3. How to subtract one polynomial from another using NumPy in Python?**"
            ]
        },
        {
            "cell_type": "code",
            "execution_count": 104,
            "metadata": {},
            "outputs": [
                {
                    "name": "stdout",
                    "output_type": "stream",
                    "text": [
                        "    2\n",
                        "-3 x - 3 x - 3\n"
                    ]
                }
            ],
            "source": [
                "import numpy as np\n",
                "\n",
                "poly1 = np.poly1d([1, 2, 3])  # First polynomial\n",
                "poly2 = np.poly1d([4, 5, 6])  # Second polynomial\n",
                "poly_diff = np.polysub(poly1, poly2)\n",
                "print(poly_diff)\n"
            ]
        },
        {
            "attachments": {},
            "cell_type": "markdown",
            "metadata": {},
            "source": [
                "\n",
                "**4. How to multiply a polynomial by another using NumPy in Python?**"
            ]
        },
        {
            "cell_type": "code",
            "execution_count": 105,
            "metadata": {},
            "outputs": [
                {
                    "name": "stdout",
                    "output_type": "stream",
                    "text": [
                        "   4      3      2\n",
                        "4 x + 13 x + 28 x + 27 x + 18\n"
                    ]
                }
            ],
            "source": [
                "import numpy as np\n",
                "\n",
                "poly1 = np.poly1d([1, 2, 3])  # First polynomial\n",
                "poly2 = np.poly1d([4, 5, 6])  # Second polynomial\n",
                "poly_product = np.polymul(poly1, poly2)\n",
                "print(poly_product)\n"
            ]
        },
        {
            "attachments": {},
            "cell_type": "markdown",
            "metadata": {},
            "source": [
                "\n",
                "**5. How to divide a polynomial by another using NumPy in Python?**"
            ]
        },
        {
            "cell_type": "code",
            "execution_count": 106,
            "metadata": {},
            "outputs": [
                {
                    "name": "stdout",
                    "output_type": "stream",
                    "text": [
                        "Quotient:  \n",
                        "0.25\n",
                        "Remainder:  \n",
                        "0.75 x + 1.5\n"
                    ]
                }
            ],
            "source": [
                "import numpy as np\n",
                "\n",
                "poly1 = np.poly1d([1, 2, 3])  # Numerator polynomial\n",
                "poly2 = np.poly1d([4, 5, 6])  # Denominator polynomial\n",
                "poly_quotient, poly_remainder = np.polydiv(poly1, poly2)\n",
                "print(\"Quotient:\", poly_quotient)\n",
                "print(\"Remainder:\", poly_remainder)\n"
            ]
        },
        {
            "attachments": {},
            "cell_type": "markdown",
            "metadata": {},
            "source": [
                "\n",
                "**6. Find the roots of the polynomials using NumPy**"
            ]
        },
        {
            "cell_type": "code",
            "execution_count": 107,
            "metadata": {},
            "outputs": [
                {
                    "name": "stdout",
                    "output_type": "stream",
                    "text": [
                        "[ 3. -1.]\n"
                    ]
                }
            ],
            "source": [
                "import numpy as np\n",
                "\n",
                "poly = np.poly1d([1, -2, -3])  # Polynomial\n",
                "roots = np.roots(poly)\n",
                "print(roots)\n"
            ]
        },
        {
            "attachments": {},
            "cell_type": "markdown",
            "metadata": {},
            "source": [
                "\n",
                "**7. Evaluate a 2-D polynomial series on the Cartesian product**"
            ]
        },
        {
            "cell_type": "code",
            "execution_count": 108,
            "metadata": {},
            "outputs": [
                {
                    "name": "stdout",
                    "output_type": "stream",
                    "text": [
                        "[[ 360.  537.  750.]\n",
                        " [1029. 1532. 2137.]\n",
                        " [2064. 3071. 4282.]]\n"
                    ]
                }
            ],
            "source": [
                "import numpy as np\n",
                "\n",
                "x = np.array([1, 2, 3])  # First variable\n",
                "y = np.array([4, 5, 6])  # Second variable\n",
                "coefs = np.array([[1, 2, 3], [4, 5, 6], [7, 8, 9]])  # Coefficients of the polynomial\n",
                "result = np.polynomial.polynomial.polygrid2d(x, y, coefs)\n",
                "print(result)\n"
            ]
        },
        {
            "attachments": {},
            "cell_type": "markdown",
            "metadata": {},
            "source": [
                "\n",
                "**8. Evaluate a 3-D polynomial series on the Cartesian product**"
            ]
        },
        {
            "cell_type": "code",
            "execution_count": 109,
            "metadata": {},
            "outputs": [
                {
                    "name": "stdout",
                    "output_type": "stream",
                    "text": [
                        "[[[  60993.   78210.   97587.]\n",
                        "  [  90990.  116673.  145578.]\n",
                        "  [ 127089.  162960.  203331.]]\n",
                        "\n",
                        " [[ 174636.  223881.  279300.]\n",
                        "  [ 260019.  333338.  415849.]\n",
                        "  [ 362718.  464993.  580090.]]\n",
                        "\n",
                        " [[ 350487.  449286.  560469.]\n",
                        "  [ 521514.  668519.  833950.]\n",
                        "  [ 727191.  932168. 1162837.]]]\n"
                    ]
                }
            ],
            "source": [
                "import numpy as np\n",
                "\n",
                "x = np.array([1, 2, 3])  # First variable\n",
                "y = np.array([4, 5, 6])  # Second variable\n",
                "z = np.array([7, 8, 9])  # Third variable\n",
                "coefs = np.array([[[1, 2, 3], [4, 5, 6], [7, 8, 9]],\n",
                "                  [[10, 11, 12], [13, 14, 15], [16, 17, 18]],\n",
                "                  [[19, 20, 21], [22, 23, 24], [25, 26, 27]]])  # Coefficients of the polynomial\n",
                "result = np.polynomial.polynomial.polygrid3d(x, y, z, coefs)\n",
                "print(result)"
            ]
        },
        {
            "attachments": {},
            "cell_type": "markdown",
            "metadata": {},
            "source": [
                "# Questions on NumPy Strings"
            ]
        },
        {
            "attachments": {},
            "cell_type": "markdown",
            "metadata": {},
            "source": [
                "**1. Repeat all the elements of a NumPy array of strings**"
            ]
        },
        {
            "cell_type": "code",
            "execution_count": 110,
            "metadata": {},
            "outputs": [
                {
                    "name": "stdout",
                    "output_type": "stream",
                    "text": [
                        "['apple' 'apple' 'banana' 'banana' 'cherry' 'cherry']\n"
                    ]
                }
            ],
            "source": [
                "import numpy as np\n",
                "\n",
                "array = np.array(['apple', 'banana', 'cherry'])\n",
                "repeated_array = np.repeat(array, 2)\n",
                "print(repeated_array)\n"
            ]
        },
        {
            "attachments": {},
            "cell_type": "markdown",
            "metadata": {},
            "source": [
                "\n",
                "**2. How to split the element of a given NumPy array with spaces?**"
            ]
        },
        {
            "cell_type": "code",
            "execution_count": 111,
            "metadata": {},
            "outputs": [
                {
                    "name": "stdout",
                    "output_type": "stream",
                    "text": [
                        "[list(['Hello', 'World']) list(['Python', 'Programming'])\n",
                        " list(['NumPy', 'Arrays'])]\n"
                    ]
                }
            ],
            "source": [
                "import numpy as np\n",
                "\n",
                "array = np.array(['Hello World', 'Python Programming', 'NumPy Arrays'])\n",
                "split_array = np.char.split(array)\n",
                "print(split_array)\n"
            ]
        },
        {
            "attachments": {},
            "cell_type": "markdown",
            "metadata": {},
            "source": [
                "\n",
                "**3. How to insert a space between characters of all the elements of a given NumPy array?**"
            ]
        },
        {
            "cell_type": "code",
            "execution_count": 112,
            "metadata": {},
            "outputs": [
                {
                    "name": "stdout",
                    "output_type": "stream",
                    "text": [
                        "['H e l l o' 'P y t h o n' 'N u m P y']\n"
                    ]
                }
            ],
            "source": [
                "import numpy as np\n",
                "\n",
                "array = np.array(['Hello', 'Python', 'NumPy'])\n",
                "inserted_space_array = np.char.join(' ', array)\n",
                "print(inserted_space_array)\n"
            ]
        },
        {
            "attachments": {},
            "cell_type": "markdown",
            "metadata": {},
            "source": [
                "\n",
                "**4. Find the length of each string element in the NumPy array**"
            ]
        },
        {
            "cell_type": "code",
            "execution_count": 113,
            "metadata": {},
            "outputs": [
                {
                    "name": "stdout",
                    "output_type": "stream",
                    "text": [
                        "[5 6 6]\n"
                    ]
                }
            ],
            "source": [
                "import numpy as np\n",
                "\n",
                "array = np.array(['apple', 'banana', 'cherry'])\n",
                "lengths = np.char.str_len(array)\n",
                "print(lengths)\n"
            ]
        },
        {
            "attachments": {},
            "cell_type": "markdown",
            "metadata": {},
            "source": [
                "\n",
                "**5. Swap the case of an array of strings**"
            ]
        },
        {
            "cell_type": "code",
            "execution_count": 114,
            "metadata": {},
            "outputs": [
                {
                    "name": "stdout",
                    "output_type": "stream",
                    "text": [
                        "['hELLO' 'pYTHON' 'nUMpY']\n"
                    ]
                }
            ],
            "source": [
                "import numpy as np\n",
                "\n",
                "array = np.array(['Hello', 'Python', 'NumPy'])\n",
                "swapped_case_array = np.char.swapcase(array)\n",
                "print(swapped_case_array)\n"
            ]
        },
        {
            "attachments": {},
            "cell_type": "markdown",
            "metadata": {},
            "source": [
                "\n",
                "**6. Change the case to uppercase of elements of an array**"
            ]
        },
        {
            "cell_type": "code",
            "execution_count": 115,
            "metadata": {},
            "outputs": [
                {
                    "name": "stdout",
                    "output_type": "stream",
                    "text": [
                        "['HELLO' 'PYTHON' 'NUMPY']\n"
                    ]
                }
            ],
            "source": [
                "import numpy as np\n",
                "\n",
                "array = np.array(['Hello', 'Python', 'NumPy'])\n",
                "uppercase_array = np.char.upper(array)\n",
                "print(uppercase_array)\n"
            ]
        },
        {
            "attachments": {},
            "cell_type": "markdown",
            "metadata": {},
            "source": [
                "\n",
                "**7. Change the case to lowercase of elements of an array**"
            ]
        },
        {
            "cell_type": "code",
            "execution_count": 116,
            "metadata": {},
            "outputs": [
                {
                    "name": "stdout",
                    "output_type": "stream",
                    "text": [
                        "['hello' 'python' 'numpy']\n"
                    ]
                }
            ],
            "source": [
                "import numpy as np\n",
                "\n",
                "array = np.array(['Hello', 'Python', 'NumPy'])\n",
                "lowercase_array = np.char.lower(array)\n",
                "print(lowercase_array)\n"
            ]
        },
        {
            "attachments": {},
            "cell_type": "markdown",
            "metadata": {},
            "source": [
                "\n",
                "**8. Join strings by a separator**"
            ]
        },
        {
            "cell_type": "code",
            "execution_count": 117,
            "metadata": {},
            "outputs": [
                {
                    "name": "stdout",
                    "output_type": "stream",
                    "text": [
                        "['H-e-l-l-o' 'P-y-t-h-o-n' 'N-u-m-P-y']\n"
                    ]
                }
            ],
            "source": [
                "import numpy as np\n",
                "\n",
                "array = np.array(['Hello', 'Python', 'NumPy'])\n",
                "joined_string = np.char.join('-', array)\n",
                "print(joined_string)\n"
            ]
        },
        {
            "attachments": {},
            "cell_type": "markdown",
            "metadata": {},
            "source": [
                "\n",
                "**9. Check if two same-shaped string arrays are equal one by one**"
            ]
        },
        {
            "cell_type": "code",
            "execution_count": 118,
            "metadata": {},
            "outputs": [
                {
                    "name": "stdout",
                    "output_type": "stream",
                    "text": [
                        "[ True  True  True]\n"
                    ]
                }
            ],
            "source": [
                "import numpy as np\n",
                "\n",
                "array1 = np.array(['apple', 'banana', 'cherry'])\n",
                "array2 = np.array(['apple', 'banana', 'cherry'])\n",
                "equal_arrays = np.char.equal(array1, array2)\n",
                "print(equal_arrays)\n"
            ]
        },
        {
            "attachments": {},
            "cell_type": "markdown",
            "metadata": {},
            "source": [
                "\n",
                "**10. Count the number of substrings in an array**"
            ]
        },
        {
            "cell_type": "code",
            "execution_count": 119,
            "metadata": {},
            "outputs": [
                {
                    "name": "stdout",
                    "output_type": "stream",
                    "text": [
                        "[1 3 0]\n"
                    ]
                }
            ],
            "source": [
                "import numpy as np\n",
                "\n",
                "array = np.array(['apple', 'banana', 'cherry'])\n",
                "count = np.char.count(array, 'a')\n",
                "print(count)\n"
            ]
        },
        {
            "attachments": {},
            "cell_type": "markdown",
            "metadata": {},
            "source": [
                "\n",
                "**11. Find the lowest index of the substring in an array**"
            ]
        },
        {
            "cell_type": "code",
            "execution_count": 120,
            "metadata": {},
            "outputs": [
                {
                    "name": "stdout",
                    "output_type": "stream",
                    "text": [
                        "[ 0  1 -1]\n"
                    ]
                }
            ],
            "source": [
                "import numpy as np\n",
                "\n",
                "array = np.array(['apple', 'banana', 'cherry'])\n",
                "index = np.char.find(array, 'a')\n",
                "print(index)\n"
            ]
        },
        {
            "attachments": {},
            "cell_type": "markdown",
            "metadata": {},
            "source": [
                "\n",
                "**12. Get the boolean array when values end with a particular character**"
            ]
        },
        {
            "cell_type": "code",
            "execution_count": 121,
            "metadata": {},
            "outputs": [
                {
                    "name": "stdout",
                    "output_type": "stream",
                    "text": [
                        "[False  True False]\n"
                    ]
                }
            ],
            "source": [
                "import numpy as np\n",
                "\n",
                "array = np.array(['apple', 'banana', 'cherry'])\n",
                "ends_with_a = np.char.endswith(array, 'a')\n",
                "print(ends_with_a)\n"
            ]
        },
        {
            "attachments": {},
            "cell_type": "markdown",
            "metadata": {},
            "source": [
                "\n",
                "**13. Different ways to convert a Python dictionary to a NumPy array**"
            ]
        },
        {
            "cell_type": "code",
            "execution_count": 122,
            "metadata": {},
            "outputs": [
                {
                    "name": "stdout",
                    "output_type": "stream",
                    "text": [
                        "[['a' '1']\n",
                        " ['b' '2']\n",
                        " ['c' '3']]\n",
                        "[1 2 3]\n"
                    ]
                }
            ],
            "source": [
                "import numpy as np\n",
                "\n",
                "# Method 1: Convert dictionary items to list of tuples and then convert to array\n",
                "dictionary = {'a': 1, 'b': 2, 'c': 3}\n",
                "array1 = np.array(list(dictionary.items()))\n",
                "\n",
                "# Method 2: Convert dictionary values to list and then convert to array\n",
                "array2 = np.array(list(dictionary.values()))\n",
                "\n",
                "print(array1)\n",
                "print(array2)\n"
            ]
        },
        {
            "attachments": {},
            "cell_type": "markdown",
            "metadata": {},
            "source": [
                "\n",
                "**14. How to convert a list and tuple into NumPy arrays?**"
            ]
        },
        {
            "cell_type": "code",
            "execution_count": 123,
            "metadata": {},
            "outputs": [
                {
                    "name": "stdout",
                    "output_type": "stream",
                    "text": [
                        "[1 2 3 4 5]\n",
                        "[ 6  7  8  9 10]\n"
                    ]
                }
            ],
            "source": [
                "import numpy as np\n",
                "\n",
                "list_data = [1, 2, 3, 4, 5]\n",
                "tuple_data = (6, 7, 8, 9, 10)\n",
                "\n",
                "array_from_list = np.array(list_data)\n",
                "array_from_tuple = np.array(tuple_data)\n",
                "\n",
                "print(array_from_list)\n",
                "print(array_from_tuple)\n"
            ]
        },
        {
            "attachments": {},
            "cell_type": "markdown",
            "metadata": {},
            "source": [
                "\n",
                "**15. Ways to convert an array of strings to an array of floats**"
            ]
        },
        {
            "cell_type": "code",
            "execution_count": 124,
            "metadata": {},
            "outputs": [
                {
                    "name": "stdout",
                    "output_type": "stream",
                    "text": [
                        "[1.5 2.7 3.2 4.9 5. ]\n"
                    ]
                }
            ],
            "source": [
                "import numpy as np\n",
                "\n",
                "string_array = np.array(['1.5', '2.7', '3.2', '4.9', '5.0'])\n",
                "float_array = string_array.astype(float)\n",
                "\n",
                "print(float_array)\n"
            ]
        },
        {
            "attachments": {},
            "cell_type": "markdown",
            "metadata": {},
            "source": [
                "\n",
                "**16. Convert a NumPy array into a CSV file**"
            ]
        },
        {
            "cell_type": "code",
            "execution_count": 125,
            "metadata": {},
            "outputs": [],
            "source": [
                "import numpy as np\n",
                "\n",
                "array = np.array([[1, 2, 3], [4, 5, 6]])\n",
                "np.savetxt('array.csv', array, delimiter=',')\n"
            ]
        },
        {
            "attachments": {},
            "cell_type": "markdown",
            "metadata": {},
            "source": [
                "\n",
                "**17. How to Convert an image to NumPy array and save it to a CSV file using Python?**"
            ]
        },
        {
            "cell_type": "code",
            "execution_count": null,
            "metadata": {},
            "outputs": [],
            "source": [
                "import numpy as np\n",
                "from PIL import Image\n",
                "\n",
                "SRC = \"\"\n",
                "image = Image.open(SRC if SRC != \"\" else input())\n",
                "array = np.array(image)\n",
                "np.savetxt('image.csv', array, delimiter=',')\n"
            ]
        },
        {
            "attachments": {},
            "cell_type": "markdown",
            "metadata": {},
            "source": [
                "\n",
                "**18. How to save a NumPy array to a text file?**"
            ]
        },
        {
            "cell_type": "code",
            "execution_count": 127,
            "metadata": {},
            "outputs": [],
            "source": [
                "import numpy as np\n",
                "\n",
                "array = np.array([[1, 2, 3], [4, 5, 6]])\n",
                "np.savetxt('array.txt', array)\n"
            ]
        },
        {
            "attachments": {},
            "cell_type": "markdown",
            "metadata": {},
            "source": [
                "\n",
                "**19. Load data from a text file**"
            ]
        },
        {
            "cell_type": "code",
            "execution_count": null,
            "metadata": {},
            "outputs": [],
            "source": [
                "import numpy as np\n",
                "\n",
                "SRC = \"\"\n",
                "data = np.loadtxt(SRC if SRC != \"\" else input())\n",
                "print(data)\n"
            ]
        },
        {
            "attachments": {},
            "cell_type": "markdown",
            "metadata": {},
            "source": [
                "\n",
                "**20. Plot line graph from NumPy array**"
            ]
        },
        {
            "cell_type": "code",
            "execution_count": 129,
            "metadata": {},
            "outputs": [
                {
                    "data": {
                        "image/png": "[encoded data removed]",
                        "text/plain": [
                            "<Figure size 640x480 with 1 Axes>"
                        ]
                    },
                    "metadata": {},
                    "output_type": "display_data"
                }
            ],
            "source": [
                "import numpy as np\n",
                "import matplotlib.pyplot as plt\n",
                "\n",
                "x = np.arange(1, 11)\n",
                "y = np.random.randint(1, 11, size=10)\n",
                "\n",
                "plt.plot(x, y)\n",
                "plt.show()\n"
            ]
        },
        {
            "attachments": {},
            "cell_type": "markdown",
            "metadata": {},
            "source": [
                "\n",
                "**21. Create Histogram using NumPy**"
            ]
        },
        {
            "cell_type": "code",
            "execution_count": 130,
            "metadata": {},
            "outputs": [
                {
                    "data": {
                        "image/png": "[encoded data removed]",
                        "text/plain": [
                            "<Figure size 640x480 with 1 Axes>"
                        ]
                    },
                    "metadata": {},
                    "output_type": "display_data"
                }
            ],
            "source": [
                "import numpy as np\n",
                "import matplotlib.pyplot as plt\n",
                "\n",
                "array = np.random.randint(100, size=10000)\n",
                "\n",
                "plt.hist(array, bins=100)\n",
                "plt.show()"
            ]
        }
    ],
    "metadata": {
        "kernelspec": {
            "display_name": "base",
            "language": "python",
            "name": "python3"
        },
        "language_info": {
            "codemirror_mode": {
                "name": "ipython",
                "version": 3
            },
            "file_extension": ".py",
            "mimetype": "text/x-python",
            "name": "python",
            "nbconvert_exporter": "python",
            "pygments_lexer": "ipython3",
            "version": "3.10.9"
        },
        "orig_nbformat": 4
    },
    "nbformat": 4,
    "nbformat_minor": 2
}
